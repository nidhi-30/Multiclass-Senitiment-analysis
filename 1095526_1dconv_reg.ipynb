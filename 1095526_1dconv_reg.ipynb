{
  "nbformat": 4,
  "nbformat_minor": 0,
  "metadata": {
    "colab": {
      "name": "Assignment2_Keras.ipynb",
      "provenance": [],
      "collapsed_sections": [],
      "machine_shape": "hm"
    },
    "kernelspec": {
      "name": "python3",
      "display_name": "Python 3"
    },
    "accelerator": "GPU"
  },
  "cells": [
    {
      "cell_type": "code",
      "metadata": {
        "colab_type": "code",
        "id": "bU00GReILLdN",
        "outputId": "5867ec8b-f36f-4b53-f794-7c05655df14a",
        "colab": {
          "base_uri": "https://localhost:8080/",
          "height": 121
        }
      },
      "source": [
        "from google.colab import drive\n",
        "drive.mount('/content/gdrive')\n",
        "import os\n",
        "os.chdir(\"gdrive/My Drive/\")"
      ],
      "execution_count": 1,
      "outputs": [
        {
          "output_type": "stream",
          "text": [
            "Go to this URL in a browser: https://accounts.google.com/o/oauth2/auth?client_id=947318989803-6bn6qk8qdgf4n4g3pfee6491hc0brc4i.apps.googleusercontent.com&redirect_uri=urn%3aietf%3awg%3aoauth%3a2.0%3aoob&response_type=code&scope=email%20https%3a%2f%2fwww.googleapis.com%2fauth%2fdocs.test%20https%3a%2f%2fwww.googleapis.com%2fauth%2fdrive%20https%3a%2f%2fwww.googleapis.com%2fauth%2fdrive.photos.readonly%20https%3a%2f%2fwww.googleapis.com%2fauth%2fpeopleapi.readonly\n",
            "\n",
            "Enter your authorization code:\n",
            "··········\n",
            "Mounted at /content/gdrive\n"
          ],
          "name": "stdout"
        }
      ]
    },
    {
      "cell_type": "code",
      "metadata": {
        "id": "Ase48sHOL3nJ",
        "colab_type": "code",
        "colab": {}
      },
      "source": [
        "# import libraries\n",
        "import pandas as pd\n",
        "from sklearn.model_selection import train_test_split\n",
        "import numpy as np\n",
        "from numpy import array"
      ],
      "execution_count": 0,
      "outputs": []
    },
    {
      "cell_type": "code",
      "metadata": {
        "id": "IJ1ecakkb_jG",
        "colab_type": "code",
        "outputId": "c2354b21-fc10-428c-bd5d-74340b90ba67",
        "colab": {
          "base_uri": "https://localhost:8080/",
          "height": 212
        }
      },
      "source": [
        "#load the dataset from url\n",
        "URL_Tr= 'https://raw.githubusercontent.com/cacoderquan/Sentiment-Analysis-on-the-Rotten-Tomatoes-movie-review-dataset/master/train.tsv'\n",
        "dataset = pd.read_csv(URL_Tr, sep='\\t')\n",
        "print(dataset.shape)\n",
        "dataset.head()"
      ],
      "execution_count": 0,
      "outputs": [
        {
          "output_type": "stream",
          "text": [
            "(156060, 4)\n"
          ],
          "name": "stdout"
        },
        {
          "output_type": "execute_result",
          "data": {
            "text/html": [
              "<div>\n",
              "<style scoped>\n",
              "    .dataframe tbody tr th:only-of-type {\n",
              "        vertical-align: middle;\n",
              "    }\n",
              "\n",
              "    .dataframe tbody tr th {\n",
              "        vertical-align: top;\n",
              "    }\n",
              "\n",
              "    .dataframe thead th {\n",
              "        text-align: right;\n",
              "    }\n",
              "</style>\n",
              "<table border=\"1\" class=\"dataframe\">\n",
              "  <thead>\n",
              "    <tr style=\"text-align: right;\">\n",
              "      <th></th>\n",
              "      <th>PhraseId</th>\n",
              "      <th>SentenceId</th>\n",
              "      <th>Phrase</th>\n",
              "      <th>Sentiment</th>\n",
              "    </tr>\n",
              "  </thead>\n",
              "  <tbody>\n",
              "    <tr>\n",
              "      <th>0</th>\n",
              "      <td>1</td>\n",
              "      <td>1</td>\n",
              "      <td>A series of escapades demonstrating the adage ...</td>\n",
              "      <td>1</td>\n",
              "    </tr>\n",
              "    <tr>\n",
              "      <th>1</th>\n",
              "      <td>2</td>\n",
              "      <td>1</td>\n",
              "      <td>A series of escapades demonstrating the adage ...</td>\n",
              "      <td>2</td>\n",
              "    </tr>\n",
              "    <tr>\n",
              "      <th>2</th>\n",
              "      <td>3</td>\n",
              "      <td>1</td>\n",
              "      <td>A series</td>\n",
              "      <td>2</td>\n",
              "    </tr>\n",
              "    <tr>\n",
              "      <th>3</th>\n",
              "      <td>4</td>\n",
              "      <td>1</td>\n",
              "      <td>A</td>\n",
              "      <td>2</td>\n",
              "    </tr>\n",
              "    <tr>\n",
              "      <th>4</th>\n",
              "      <td>5</td>\n",
              "      <td>1</td>\n",
              "      <td>series</td>\n",
              "      <td>2</td>\n",
              "    </tr>\n",
              "  </tbody>\n",
              "</table>\n",
              "</div>"
            ],
            "text/plain": [
              "   PhraseId  ...  Sentiment\n",
              "0         1  ...          1\n",
              "1         2  ...          2\n",
              "2         3  ...          2\n",
              "3         4  ...          2\n",
              "4         5  ...          2\n",
              "\n",
              "[5 rows x 4 columns]"
            ]
          },
          "metadata": {
            "tags": []
          },
          "execution_count": 40
        }
      ]
    },
    {
      "cell_type": "code",
      "metadata": {
        "id": "MKViixseSvZE",
        "colab_type": "code",
        "outputId": "6bd60b42-81b2-4a40-e68b-c1d11d425095",
        "colab": {
          "base_uri": "https://localhost:8080/",
          "height": 276
        }
      },
      "source": [
        "# plot graph by sentiment\n",
        "import matplotlib.pyplot as plt\n",
        "dataset.groupby('Sentiment').Phrase.count().plot.bar(ylim=0)\n",
        "plt.show()"
      ],
      "execution_count": 0,
      "outputs": [
        {
          "output_type": "display_data",
          "data": {
            "image/png": "[encoded data removed]",
            "text/plain": [
              "<Figure size 432x288 with 1 Axes>"
            ]
          },
          "metadata": {
            "tags": []
          }
        }
      ]
    },
    {
      "cell_type": "code",
      "metadata": {
        "id": "L1s7MCWyghMe",
        "colab_type": "code",
        "outputId": "1329b16d-e76e-4a76-f862-524ccebd9153",
        "colab": {
          "base_uri": "https://localhost:8080/",
          "height": 34
        }
      },
      "source": [
        "dataset.shape"
      ],
      "execution_count": 0,
      "outputs": [
        {
          "output_type": "execute_result",
          "data": {
            "text/plain": [
              "(156060, 4)"
            ]
          },
          "metadata": {
            "tags": []
          },
          "execution_count": 42
        }
      ]
    },
    {
      "cell_type": "code",
      "metadata": {
        "id": "AdzkeBjcgsr4",
        "colab_type": "code",
        "colab": {}
      },
      "source": [
        "numSentences = dataset['SentenceId'].max()"
      ],
      "execution_count": 0,
      "outputs": []
    },
    {
      "cell_type": "code",
      "metadata": {
        "id": "TTRHACgKhdZQ",
        "colab_type": "code",
        "colab": {}
      },
      "source": [
        "# extract full sentences only from the dataset\n",
        "fullSentences = []\n",
        "curSentence = 0\n",
        "for i in range(dataset.shape[0]):\n",
        "  if dataset['SentenceId'][i]> curSentence:\n",
        "    fullSentences.append((dataset['Phrase'][i], dataset['Sentiment'][i]))\n",
        "    curSentence = curSentence +1"
      ],
      "execution_count": 0,
      "outputs": []
    },
    {
      "cell_type": "code",
      "metadata": {
        "id": "qvusgO5kp8RE",
        "colab_type": "code",
        "outputId": "3440adaf-d89a-440b-dc35-3cca520000a5",
        "colab": {
          "base_uri": "https://localhost:8080/",
          "height": 34
        }
      },
      "source": [
        "len(fullSentences)"
      ],
      "execution_count": 0,
      "outputs": [
        {
          "output_type": "execute_result",
          "data": {
            "text/plain": [
              "8544"
            ]
          },
          "metadata": {
            "tags": []
          },
          "execution_count": 45
        }
      ]
    },
    {
      "cell_type": "code",
      "metadata": {
        "colab_type": "code",
        "id": "r7Yznf16z0nx",
        "colab": {}
      },
      "source": [
        "# put data into a dataframe\n",
        "fullSentDf = pd.DataFrame(fullSentences, columns=['Phrase', 'Sentiment'])"
      ],
      "execution_count": 0,
      "outputs": []
    },
    {
      "cell_type": "code",
      "metadata": {
        "id": "-VUC4qkaz2Vs",
        "colab_type": "code",
        "outputId": "cf2cbf6d-e520-45fe-c4e1-2c7ceec22176",
        "colab": {
          "base_uri": "https://localhost:8080/",
          "height": 118
        }
      },
      "source": [
        "# Check class imbalance in tokenized sentences\n",
        "dataset['Sentiment'].value_counts()"
      ],
      "execution_count": 0,
      "outputs": [
        {
          "output_type": "execute_result",
          "data": {
            "text/plain": [
              "2    79582\n",
              "3    32927\n",
              "1    27273\n",
              "4     9206\n",
              "0     7072\n",
              "Name: Sentiment, dtype: int64"
            ]
          },
          "metadata": {
            "tags": []
          },
          "execution_count": 47
        }
      ]
    },
    {
      "cell_type": "code",
      "metadata": {
        "id": "Bnm-Ar0Gz2dv",
        "colab_type": "code",
        "outputId": "6a7dd728-64a5-4665-841e-ef106e5df215",
        "colab": {
          "base_uri": "https://localhost:8080/",
          "height": 118
        }
      },
      "source": [
        "# Check class imbalance in full sentences\n",
        "fullSentDf['Sentiment'].value_counts()"
      ],
      "execution_count": 0,
      "outputs": [
        {
          "output_type": "execute_result",
          "data": {
            "text/plain": [
              "3    2325\n",
              "1    2203\n",
              "2    1659\n",
              "4    1282\n",
              "0    1075\n",
              "Name: Sentiment, dtype: int64"
            ]
          },
          "metadata": {
            "tags": []
          },
          "execution_count": 48
        }
      ]
    },
    {
      "cell_type": "code",
      "metadata": {
        "colab_type": "code",
        "id": "OTFx1JFlNtJq",
        "outputId": "a664b510-3209-46c6-eae3-ca00f0f30e6e",
        "colab": {
          "base_uri": "https://localhost:8080/",
          "height": 118
        }
      },
      "source": [
        "import nltk\n",
        "import random\n",
        "nltk.download('punkt')\n",
        "nltk.download('stopwords')\n",
        "nltk.download('wordnet')\n",
        "from nltk.tokenize import word_tokenize"
      ],
      "execution_count": 0,
      "outputs": [
        {
          "output_type": "stream",
          "text": [
            "[nltk_data] Downloading package punkt to /root/nltk_data...\n",
            "[nltk_data]   Package punkt is already up-to-date!\n",
            "[nltk_data] Downloading package stopwords to /root/nltk_data...\n",
            "[nltk_data]   Package stopwords is already up-to-date!\n",
            "[nltk_data] Downloading package wordnet to /root/nltk_data...\n",
            "[nltk_data]   Package wordnet is already up-to-date!\n"
          ],
          "name": "stdout"
        }
      ]
    },
    {
      "cell_type": "code",
      "metadata": {
        "id": "jUy44J07NtbR",
        "colab_type": "code",
        "colab": {}
      },
      "source": [
        "documents = []\n",
        "#convert data into format\n",
        "\n",
        "#use full dataset\n",
        "for i in range(dataset.shape[0]):\n",
        "  tmpWords = word_tokenize(dataset['Phrase'][i])\n",
        "  documents.append((tmpWords, dataset['Sentiment'][i]))\n",
        "\n",
        "# Use only complete sentences\n",
        "# for i in range(fullSentDf.shape[0]):\n",
        "#   tmpWords = word_tokenize(fullSentDf['Phrase'][i])\n",
        "#   documents.append((tmpWords, fullSentDf['Sentiment'][i]))"
      ],
      "execution_count": 0,
      "outputs": []
    },
    {
      "cell_type": "code",
      "metadata": {
        "colab_type": "code",
        "id": "q9WzOZxJReW7",
        "outputId": "0c96e787-26fd-489d-8f95-4fdb56c12c71",
        "colab": {
          "base_uri": "https://localhost:8080/",
          "height": 34
        }
      },
      "source": [
        "random.seed(9001)\n",
        "random.shuffle(documents)\n",
        "print(documents[1][0])"
      ],
      "execution_count": 0,
      "outputs": [
        {
          "output_type": "stream",
          "text": [
            "['can', 'only', 'remind', 'us', 'of', 'brilliant', 'crime', 'dramas', 'without', 'becoming', 'one', 'itself', '.']\n"
          ],
          "name": "stdout"
        }
      ]
    },
    {
      "cell_type": "code",
      "metadata": {
        "colab_type": "code",
        "id": "vpgb1OZURgSc",
        "outputId": "21eb4bb7-040e-45e2-9694-cea06089a7d7",
        "colab": {
          "base_uri": "https://localhost:8080/",
          "height": 34
        }
      },
      "source": [
        "len(documents)"
      ],
      "execution_count": 0,
      "outputs": [
        {
          "output_type": "execute_result",
          "data": {
            "text/plain": [
              "156060"
            ]
          },
          "metadata": {
            "tags": []
          },
          "execution_count": 52
        }
      ]
    },
    {
      "cell_type": "code",
      "metadata": {
        "colab_type": "code",
        "id": "9_oLV4fuRjD1",
        "outputId": "48695217-b678-4773-a1b2-00e1556d5da9",
        "colab": {
          "base_uri": "https://localhost:8080/",
          "height": 34
        }
      },
      "source": [
        "from nltk.corpus import stopwords\n",
        "from nltk.stem import WordNetLemmatizer, PorterStemmer, LancasterStemmer\n",
        "from nltk.stem.snowball import SnowballStemmer\n",
        "porter = PorterStemmer()\n",
        "lancaster=LancasterStemmer()\n",
        "snowball = SnowballStemmer(\"english\")\n",
        "wordnet_lemmatizer = WordNetLemmatizer()\n",
        "stopwords_en = stopwords.words(\"english\")\n",
        "punctuations=\"?:!.,;'\\\"-()\"\n",
        "\n",
        "#parameters to adjust to see the impact on outcome\n",
        "remove_stopwords = True\n",
        "useStemming = True\n",
        "useLemma = False\n",
        "removePuncs = True\n",
        "\n",
        "for l in range(len(documents)):\n",
        "  label = documents[l][1]\n",
        "  tmpReview = []\n",
        "  for w in documents[l][0]:\n",
        "    newWord = w\n",
        "    if remove_stopwords and (w in stopwords_en):\n",
        "      continue\n",
        "    if removePuncs and (w in punctuations):\n",
        "      continue\n",
        "    if useStemming:\n",
        "      # newWord = porter.stem(newWord)\n",
        "      newWord = lancaster.stem(newWord)\n",
        "      # newWord = snowball.stem(newWord)\n",
        "    if useLemma:\n",
        "      newWord = wordnet_lemmatizer.lemmatize(newWord)\n",
        "    tmpReview.append(newWord)\n",
        "  documents[l] = (' '.join(tmpReview), label)\n",
        "print(documents[0])"
      ],
      "execution_count": 0,
      "outputs": [
        {
          "output_type": "stream",
          "text": [
            "('lot recommend read my lip', 4)\n"
          ],
          "name": "stdout"
        }
      ]
    },
    {
      "cell_type": "code",
      "metadata": {
        "id": "vL2WU5HxRyCf",
        "colab_type": "code",
        "colab": {}
      },
      "source": [
        "all_data = pd.DataFrame(documents, columns=['text', 'sentiment'])\n",
        "# Splits the dataset so 70% is used for training and 30% for testing\n",
        "x_train_raw, x_test_raw, y_train_raw, y_test_raw = train_test_split(all_data['text'], all_data['sentiment'], test_size=0.3, random_state=2003)"
      ],
      "execution_count": 0,
      "outputs": []
    },
    {
      "cell_type": "code",
      "metadata": {
        "id": "YFVmsLtGRyLj",
        "colab_type": "code",
        "outputId": "7dfcd5a6-8f4a-46c9-a614-9373aef4fb70",
        "colab": {
          "base_uri": "https://localhost:8080/",
          "height": 34
        }
      },
      "source": [
        "len(x_train_raw)"
      ],
      "execution_count": 0,
      "outputs": [
        {
          "output_type": "execute_result",
          "data": {
            "text/plain": [
              "109242"
            ]
          },
          "metadata": {
            "tags": []
          },
          "execution_count": 55
        }
      ]
    },
    {
      "cell_type": "code",
      "metadata": {
        "id": "vrG_tWzarYyJ",
        "colab_type": "code",
        "colab": {}
      },
      "source": [
        "from sklearn.feature_extraction.text import TfidfVectorizer\n",
        "from sklearn.feature_extraction.text import CountVectorizer\n",
        "\n",
        "vector_size = 2500\n",
        "\n",
        "# Transform each text into a vector of word counts\n",
        "# vectorizer = CountVectorizer(max_features = vector_size,stop_words=\"english\", ngram_range=(1, 2))\n",
        "\n",
        "vectorizer = TfidfVectorizer(max_features = vector_size, stop_words = \"english\", ngram_range = (1, 2))\n",
        "#X = vectorizer.fit_transform(all_data[\"text\"])\n",
        "#Y = all_data['sentiment']\n",
        "x_train = vectorizer.fit_transform(x_train_raw).toarray()\n",
        "y_train = y_train_raw\n",
        "x_test = vectorizer.transform(x_test_raw).toarray()\n",
        "y_test = y_test_raw\n",
        "\n",
        "y_test = np.array(y_test)\n",
        "y_test = y_test.reshape(y_test.shape[0],1)"
      ],
      "execution_count": 0,
      "outputs": []
    },
    {
      "cell_type": "code",
      "metadata": {
        "id": "MAT98csgRyod",
        "colab_type": "code",
        "outputId": "c051a189-fa9e-4a22-b6c9-7795efef5c16",
        "colab": {
          "base_uri": "https://localhost:8080/",
          "height": 50
        }
      },
      "source": [
        "# # x_train = x_train.transform(x_train)  #both of the methods have the same representation bcz of the same sparse method\n",
        "# # x_test = x_test.transform(x_test)\n",
        "\n",
        "# # x_train = x_train.transform(x_train).toarray()# same as method 1 that is BOW\n",
        "# # x_test = x_test.transform(x_test).toarray()\n",
        "# print(x_train.shape)\n",
        "# print(x_test.shape)\n",
        "\n",
        "x_train = np.array(x_train)\n",
        "x_train = x_train.reshape(x_train.shape[0], vector_size, 1)\n",
        "print(x_train.shape)\n",
        "\n",
        "x_test = np.array(x_test)\n",
        "x_test = x_test.reshape(x_test.shape[0], vector_size, 1)\n",
        "print(x_test.shape)"
      ],
      "execution_count": 0,
      "outputs": [
        {
          "output_type": "stream",
          "text": [
            "(109242, 2500, 1)\n",
            "(46818, 2500, 1)\n"
          ],
          "name": "stdout"
        }
      ]
    },
    {
      "cell_type": "code",
      "metadata": {
        "id": "0zmszOgPRyzi",
        "colab_type": "code",
        "outputId": "9a7f0b6e-2487-4ae1-f599-ae6cbf8f7570",
        "colab": {
          "base_uri": "https://localhost:8080/",
          "height": 101
        }
      },
      "source": [
        "from keras.utils import to_categorical \n",
        "\n",
        "# conveting the array into one vector\n",
        "y_train = to_categorical(y_train)\n",
        "y_train.shape\n",
        "\n",
        "#converting the array into matrix\n",
        "y_train[0:5,]"
      ],
      "execution_count": 0,
      "outputs": [
        {
          "output_type": "execute_result",
          "data": {
            "text/plain": [
              "array([[0., 0., 1., 0., 0.],\n",
              "       [0., 0., 1., 0., 0.],\n",
              "       [0., 0., 0., 1., 0.],\n",
              "       [0., 1., 0., 0., 0.],\n",
              "       [0., 0., 0., 1., 0.]], dtype=float32)"
            ]
          },
          "metadata": {
            "tags": []
          },
          "execution_count": 58
        }
      ]
    },
    {
      "cell_type": "code",
      "metadata": {
        "id": "xhSCT2hPioIg",
        "colab_type": "code",
        "colab": {}
      },
      "source": [
        "from keras import backend as K\n",
        "# defining the recall method\n",
        "def recall_value(y_true, y_pred):\n",
        "  true_positives = K.sum(K.round(K.clip(y_true*y_pred, 0, 1))) \n",
        "  possible_positives = K.sum(K.round(K.clip(y_true, 0 ,1)))\n",
        "  recall = true_positives / (possible_positives + K.epsilon())\n",
        "  return recall"
      ],
      "execution_count": 0,
      "outputs": []
    },
    {
      "cell_type": "code",
      "metadata": {
        "id": "oqUyABGRRy86",
        "colab_type": "code",
        "colab": {}
      },
      "source": [
        "# defining the precision method\n",
        "def precision_value(y_true, y_pred):\n",
        "  true_positives = K.sum(K.round(K.clip(y_true*y_pred, 0, 1)))\n",
        "  predicted_positives = K.sum(K.round(K.clip(y_pred, 0 ,1)))\n",
        "  precision = true_positives / (predicted_positives + K.epsilon())\n",
        "  return precision"
      ],
      "execution_count": 0,
      "outputs": []
    },
    {
      "cell_type": "code",
      "metadata": {
        "id": "6wAetFWKRzEh",
        "colab_type": "code",
        "colab": {}
      },
      "source": [
        "# defining the f1 score method\n",
        "def f1_score(y_true, y_pred):\n",
        "  precision = precision_value(y_true, y_pred)\n",
        "  recall = recall_value(y_true, y_pred)\n",
        "  return 2*((precision*recall)/(precision+recall+K.epsilon()))"
      ],
      "execution_count": 0,
      "outputs": []
    },
    {
      "cell_type": "code",
      "metadata": {
        "id": "mHHLlaPJRzLC",
        "colab_type": "code",
        "colab": {}
      },
      "source": [
        "from keras.models import Sequential\n",
        "from keras.layers import MaxPooling1D, Dense, Dropout, Flatten\n",
        "from keras.layers import Activation, Conv1D\n",
        "\n",
        "# build cnn model\n",
        "# defining the cnn model\n",
        "def cnn_model(fea_matrix, n_class, compiler):\n",
        "  # setting the model as sequential one\n",
        "  model = Sequential()\n",
        "  model.add(Conv1D(filters=128, kernel_size=3, activation='tanh', input_shape=(fea_matrix.shape[1], fea_matrix.shape[2])))\n",
        "  model.add(MaxPooling1D(pool_size=1))\n",
        "  model.add(Dropout(rate = 0.25))\n",
        "  model.add(Conv1D(filters=64, kernel_size=5, activation='tanh'))\n",
        "  model.add(MaxPooling1D(pool_size=1))\n",
        "  model.add(Dropout(rate = 0.25))\n",
        "  model.add(Conv1D(filters=32, kernel_size=5, activation='tanh'))\n",
        "  model.add(MaxPooling1D(pool_size=1))\n",
        "  model.add(Dropout(rate = 0.25))\n",
        "  model.add(Flatten())\n",
        "  model.add(Dense(16, activation='tanh'))\n",
        "  model.add(Dense(n_class, activation='softmax'))\n",
        "  model.compile(optimizer=compiler, loss='categorical_crossentropy',\n",
        "                  metrics=['acc', f1_score, precision_value, recall_value])\n",
        "\n",
        "  return model"
      ],
      "execution_count": 0,
      "outputs": []
    },
    {
      "cell_type": "code",
      "metadata": {
        "colab_type": "code",
        "id": "HbE-ZEmEhhD9",
        "outputId": "f76bf744-2387-4354-fc87-de8f7db20874",
        "colab": {
          "base_uri": "https://localhost:8080/",
          "height": 272
        }
      },
      "source": [
        "from keras import optimizers\n",
        "from keras.callbacks import EarlyStopping\n",
        "from sklearn.utils import class_weight\n",
        "\n",
        "num_epochs = 100\n",
        "batch_size = 256\n",
        "decay = 1e-4\n",
        "n_class = 5\n",
        "\n",
        "#defining the different optimizers\n",
        "\n",
        "adam = optimizers.Adam(lr = 0.007)\n",
        "\n",
        "sgd = optimizers.SGD(lr = 1e-3, \n",
        "                     nesterov=True,\n",
        "                     momentum=0.7) \n",
        "\n",
        "Nadam = optimizers.Nadam(lr = 1e-3, \n",
        "                         beta_1 = 0.9, \n",
        "                         beta_2 = 0.999,\n",
        "                         epsilon = 1e-08)\n",
        "\n",
        "model = cnn_model(x_train, n_class, Nadam)\n",
        "\n",
        "es = EarlyStopping(monitor='val_acc', \n",
        "                   mode='max', patience=3)\n",
        "\n",
        "model.fit(x_train, y_train, \n",
        "          batch_size = batch_size,\n",
        "          epochs = num_epochs, \n",
        "          validation_split=  0.2, \n",
        "          class_weight='auto',\n",
        "          callbacks=[es])"
      ],
      "execution_count": 0,
      "outputs": [
        {
          "output_type": "stream",
          "text": [
            "Train on 87393 samples, validate on 21849 samples\n",
            "Epoch 1/100\n",
            "87393/87393 [==============================] - 39s 444us/step - loss: 1.1182 - acc: 0.5601 - f1_score: 0.4866 - precision_value: 0.6037 - recall_value: 0.4164 - val_loss: 0.9982 - val_acc: 0.6040 - val_f1_score: 0.5703 - val_precision_value: 0.6538 - val_recall_value: 0.5060\n",
            "Epoch 2/100\n",
            "87393/87393 [==============================] - 38s 431us/step - loss: 0.9649 - acc: 0.6158 - f1_score: 0.5797 - precision_value: 0.6755 - recall_value: 0.5081 - val_loss: 0.9769 - val_acc: 0.6145 - val_f1_score: 0.5801 - val_precision_value: 0.6739 - val_recall_value: 0.5095\n",
            "Epoch 3/100\n",
            "87393/87393 [==============================] - 38s 431us/step - loss: 0.9215 - acc: 0.6336 - f1_score: 0.6045 - precision_value: 0.6892 - recall_value: 0.5388 - val_loss: 0.9651 - val_acc: 0.6229 - val_f1_score: 0.5910 - val_precision_value: 0.6761 - val_recall_value: 0.5252\n",
            "Epoch 4/100\n",
            "87393/87393 [==============================] - 38s 430us/step - loss: 0.8943 - acc: 0.6468 - f1_score: 0.6200 - precision_value: 0.6982 - recall_value: 0.5578 - val_loss: 0.9802 - val_acc: 0.6155 - val_f1_score: 0.5957 - val_precision_value: 0.6582 - val_recall_value: 0.5442\n",
            "Epoch 5/100\n",
            "87393/87393 [==============================] - 38s 430us/step - loss: 0.8747 - acc: 0.6543 - f1_score: 0.6302 - precision_value: 0.7033 - recall_value: 0.5712 - val_loss: 0.9724 - val_acc: 0.6210 - val_f1_score: 0.5919 - val_precision_value: 0.6692 - val_recall_value: 0.5309\n",
            "Epoch 6/100\n",
            "87393/87393 [==============================] - 38s 430us/step - loss: 0.8592 - acc: 0.6609 - f1_score: 0.6392 - precision_value: 0.7083 - recall_value: 0.5827 - val_loss: 0.9758 - val_acc: 0.6207 - val_f1_score: 0.6050 - val_precision_value: 0.6611 - val_recall_value: 0.5579\n"
          ],
          "name": "stdout"
        },
        {
          "output_type": "execute_result",
          "data": {
            "text/plain": [
              "<keras.callbacks.History at 0x7f4b2f082748>"
            ]
          },
          "metadata": {
            "tags": []
          },
          "execution_count": 63
        }
      ]
    },
    {
      "cell_type": "code",
      "metadata": {
        "id": "ArOQaF7whh4q",
        "colab_type": "code",
        "colab": {}
      },
      "source": [
        "#printing the metrics of accuracy, presision and F1 score\n",
        "def print_metrics(accuarcy, f1_score, precision, recall):\n",
        "  print('Accuarcy:',np.round(accuracy, 4))\n",
        "  print('precision:',np.round(precision, 4))\n",
        "  print('Recall:',np.round(recall, 4))\n",
        "  print('F1 Score:',np.round(f1_score, 4))"
      ],
      "execution_count": 0,
      "outputs": []
    },
    {
      "cell_type": "code",
      "metadata": {
        "id": "kxEeoA23eILB",
        "colab_type": "code",
        "outputId": "ad007ca3-5e99-4f17-fa85-42d53d03c9ee",
        "colab": {
          "base_uri": "https://localhost:8080/",
          "height": 34
        }
      },
      "source": [
        "from keras.models import load_model\n",
        "\n",
        "model.save('1095526_1dconv_reg.h5')\n",
        "\n",
        "print(\"----------------------------\")\n",
        "# returns a compiled model\n",
        "# identical to the previous one\n",
        "loaded_model = load_model('1095526_1dconv_reg.h5', custom_objects = {'f1_score' : f1_score, 'precision_value' : precision_value, 'recall_value' : recall_value})"
      ],
      "execution_count": 0,
      "outputs": [
        {
          "output_type": "stream",
          "text": [
            "----------------------------\n"
          ],
          "name": "stdout"
        }
      ]
    },
    {
      "cell_type": "code",
      "metadata": {
        "id": "cMdz1JU48G3L",
        "colab_type": "code",
        "outputId": "3d00dad5-19ea-42fc-8d59-25a45e0d82b4",
        "colab": {
          "base_uri": "https://localhost:8080/",
          "height": 84
        }
      },
      "source": [
        "# conveting the array into one vector\n",
        "y_test = to_categorical(y_test)\n",
        "y_test.shape\n",
        "\n",
        "y_test[0:5,]\n",
        "\n",
        "loss, accuracy, f1_score, precision_value, recall_value = loaded_model.evaluate(x_test, y_test, verbose=0)\n",
        "print_metrics(accuracy, f1_score, precision_value, recall_value)"
      ],
      "execution_count": 0,
      "outputs": [
        {
          "output_type": "stream",
          "text": [
            "Accuarcy: 0.6215\n",
            "precision: 0.6577\n",
            "Recall: 0.5558\n",
            "F1 Score: 0.6016\n"
          ],
          "name": "stdout"
        }
      ]
    }
  ]
}